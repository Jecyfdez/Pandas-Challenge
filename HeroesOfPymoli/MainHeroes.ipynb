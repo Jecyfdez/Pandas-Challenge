{
 "cells": [
  {
   "cell_type": "code",
   "execution_count": null,
   "metadata": {},
   "outputs": [],
   "source": [
    "# ### Purchasing Analysis (Gender)\n",
    "\n",
    "# * The below each broken by gender\n",
    "#   * Purchase Count\n",
    "#   * Average Purchase Price\n",
    "#   * Total Purchase Value\n",
    "#   * Average Purchase Total per Person by Gender\n",
    "\n",
    "# ### Age Demographics\n",
    "\n",
    "# * The below each broken into bins of 4 years (i.e. &lt;10, 10-14, 15-19, etc.)\n",
    "#   * Purchase Count\n",
    "#   * Average Purchase Price\n",
    "#   * Total Purchase Value\n",
    "#   * Average Purchase Total per Person by Age Group\n",
    "\n",
    "# ### Top Spenders\n",
    "\n",
    "# * Identify the the top 5 spenders in the game by total purchase value, then list (in a table):\n",
    "#   * SN\n",
    "#   * Purchase Count\n",
    "#   * Average Purchase Price\n",
    "#   * Total Purchase Value\n",
    "\n",
    "# ### Most Popular Items\n",
    "\n",
    "# * Identify the 5 most popular items by purchase count, then list (in a table):\n",
    "#   * Item ID\n",
    "#   * Item Name\n",
    "#   * Purchase Count\n",
    "#   * Item Price\n",
    "#   * Total Purchase Value\n",
    "\n",
    "# ### Most Profitable Items\n",
    "\n",
    "# * Identify the 5 most profitable items by total purchase value, then list (in a table):\n",
    "#   * Item ID\n",
    "#   * Item Name\n",
    "#   * Purchase Count\n",
    "#   * Item Price\n",
    "#   * Total Purchase Value\n",
    "\n",
    "# As final considerations:\n",
    "\n",
    "# * You must use the Pandas Library and the Jupyter Notebook.\n",
    "# * You must submit a link to your Jupyter Notebook with the viewable Data Frames.\n",
    "# * You must include a written description of three observable trends based on the data.\n",
    "# * See [Example Solution](HeroesOfPymoli/HeroesOfPymoli_starter.ipynb) for a reference on expected format.\n"
   ]
  },
  {
   "cell_type": "code",
   "execution_count": 1,
   "metadata": {},
   "outputs": [],
   "source": [
    "# Dependencies and Setup\n",
    "import pandas as pd\n",
    "\n",
    "# File to Load\n",
    "data = \"Resources/purchase_data.csv\"\n",
    "\n",
    "# Read Purchasing File and store into Pandas data frame\n",
    "data_df = pd.read_csv(data)\n",
    "\n",
    "#data_df.head()"
   ]
  },
  {
   "cell_type": "code",
   "execution_count": 2,
   "metadata": {},
   "outputs": [
    {
     "data": {
      "text/html": [
       "<div>\n",
       "<style scoped>\n",
       "    .dataframe tbody tr th:only-of-type {\n",
       "        vertical-align: middle;\n",
       "    }\n",
       "\n",
       "    .dataframe tbody tr th {\n",
       "        vertical-align: top;\n",
       "    }\n",
       "\n",
       "    .dataframe thead th {\n",
       "        text-align: right;\n",
       "    }\n",
       "</style>\n",
       "<table border=\"1\" class=\"dataframe\">\n",
       "  <thead>\n",
       "    <tr style=\"text-align: right;\">\n",
       "      <th></th>\n",
       "      <th>Total Players</th>\n",
       "    </tr>\n",
       "  </thead>\n",
       "  <tbody>\n",
       "    <tr>\n",
       "      <th>0</th>\n",
       "      <td>576</td>\n",
       "    </tr>\n",
       "  </tbody>\n",
       "</table>\n",
       "</div>"
      ],
      "text/plain": [
       "   Total Players\n",
       "0            576"
      ]
     },
     "execution_count": 2,
     "metadata": {},
     "output_type": "execute_result"
    }
   ],
   "source": [
    "total_players = len(data_df[\"SN\"].unique())\n",
    "total_players = [{'Total Players':total_players}]\n",
    "total_players_df = pd.DataFrame(total_players)\n",
    "total_players_df\n"
   ]
  },
  {
   "cell_type": "code",
   "execution_count": 3,
   "metadata": {},
   "outputs": [
    {
     "data": {
      "text/html": [
       "<div>\n",
       "<style scoped>\n",
       "    .dataframe tbody tr th:only-of-type {\n",
       "        vertical-align: middle;\n",
       "    }\n",
       "\n",
       "    .dataframe tbody tr th {\n",
       "        vertical-align: top;\n",
       "    }\n",
       "\n",
       "    .dataframe thead th {\n",
       "        text-align: right;\n",
       "    }\n",
       "</style>\n",
       "<table border=\"1\" class=\"dataframe\">\n",
       "  <thead>\n",
       "    <tr style=\"text-align: right;\">\n",
       "      <th></th>\n",
       "      <th>Number of Unique Items</th>\n",
       "      <th>Average Price</th>\n",
       "      <th>Number of Purchases</th>\n",
       "      <th>Total Revenue</th>\n",
       "    </tr>\n",
       "  </thead>\n",
       "  <tbody>\n",
       "    <tr>\n",
       "      <th>0</th>\n",
       "      <td>179</td>\n",
       "      <td>\\$3.05</td>\n",
       "      <td>780</td>\n",
       "      <td>\\$2,379.77</td>\n",
       "    </tr>\n",
       "  </tbody>\n",
       "</table>\n",
       "</div>"
      ],
      "text/plain": [
       "   Number of Unique Items Average Price  Number of Purchases Total Revenue\n",
       "0                     179        \\$3.05                  780    \\$2,379.77"
      ]
     },
     "execution_count": 3,
     "metadata": {},
     "output_type": "execute_result"
    }
   ],
   "source": [
    "##PURCHASING ANALYSIS\n",
    "\n",
    "unique_items = len(data_df[\"Item Name\"].unique())\n",
    "\n",
    "avg_price= data_df[\"Price\"].mean(axis=0)\n",
    "\n",
    "total_purchase=len(data_df[\"Purchase ID\"])\n",
    "\n",
    "total_rev = data_df[\"Price\"].sum(axis=0)\n",
    "\n",
    "purchasing_analysis = [{'Number of Unique Items': unique_items,\n",
    "                        'Average Price': avg_price,\n",
    "                        'Number of Purchases': total_purchase,\n",
    "                        'Total Revenue': total_rev}]\n",
    "purchasing_analysis_df = pd.DataFrame(purchasing_analysis)\n",
    "\n",
    "purchasing_analysis_df[\"Total Revenue\"] = purchasing_analysis_df[\"Total Revenue\"].map(\"\\${:,.2f}\".format)\n",
    "purchasing_analysis_df['Average Price'] = purchasing_analysis_df['Average Price'].map(\"\\${:,.2f}\".format)\n",
    "purchasing_analysis_df"
   ]
  },
  {
   "cell_type": "code",
   "execution_count": 4,
   "metadata": {},
   "outputs": [],
   "source": [
    "#data_df[\"Gender\"].value_counts()"
   ]
  },
  {
   "cell_type": "code",
   "execution_count": 15,
   "metadata": {},
   "outputs": [
    {
     "data": {
      "text/html": [
       "<div>\n",
       "<style scoped>\n",
       "    .dataframe tbody tr th:only-of-type {\n",
       "        vertical-align: middle;\n",
       "    }\n",
       "\n",
       "    .dataframe tbody tr th {\n",
       "        vertical-align: top;\n",
       "    }\n",
       "\n",
       "    .dataframe thead th {\n",
       "        text-align: right;\n",
       "    }\n",
       "</style>\n",
       "<table border=\"1\" class=\"dataframe\">\n",
       "  <thead>\n",
       "    <tr style=\"text-align: right;\">\n",
       "      <th></th>\n",
       "      <th>Total Count</th>\n",
       "      <th>Percentage of Players</th>\n",
       "    </tr>\n",
       "    <tr>\n",
       "      <th></th>\n",
       "      <th></th>\n",
       "      <th></th>\n",
       "    </tr>\n",
       "  </thead>\n",
       "  <tbody>\n",
       "    <tr>\n",
       "      <th>Male</th>\n",
       "      <td>484</td>\n",
       "      <td>84.03%</td>\n",
       "    </tr>\n",
       "    <tr>\n",
       "      <th>Female</th>\n",
       "      <td>81</td>\n",
       "      <td>14.06%</td>\n",
       "    </tr>\n",
       "    <tr>\n",
       "      <th>Other / Non-Disclosed</th>\n",
       "      <td>11</td>\n",
       "      <td>1.91%</td>\n",
       "    </tr>\n",
       "  </tbody>\n",
       "</table>\n",
       "</div>"
      ],
      "text/plain": [
       "                       Total Count Percentage of Players\n",
       "                                                        \n",
       "Male                           484                84.03%\n",
       "Female                          81                14.06%\n",
       "Other / Non-Disclosed           11                 1.91%"
      ]
     },
     "execution_count": 15,
     "metadata": {},
     "output_type": "execute_result"
    }
   ],
   "source": [
    "##GENDER DEMOGRAPHICS\n",
    "#Collect a list of all male\n",
    "male_data = data_df.loc[data_df[\"Gender\"] == \"Male\"]\n",
    "#Using GroupBy in order to separate data into fields according to \"SN\" users\n",
    "male_sn = male_data.groupby([\"SN\",\"Gender\"])\n",
    "#find percentage of male\n",
    "male_count = len(male_sn)\n",
    "percent_male = (male_count/576)\n",
    "\n",
    "\n",
    "#Collect a list of all female\n",
    "female_data = data_df.loc[data_df[\"Gender\"] == \"Female\"]\n",
    "#Using GroupBy in order to separate data into fields according to \"SN\" users\n",
    "female_sn = female_data.groupby([\"SN\",\"Gender\"])\n",
    "#find percentage of female\n",
    "female_count = len(female_sn)\n",
    "percent_female = (female_count/576)\n",
    "\n",
    "\n",
    "#Collect a list of all other\n",
    "other_data = data_df.loc[data_df[\"Gender\"] == \"Other / Non-Disclosed\"]\n",
    "#Using GroupBy in order to separate data into fields according to \"SN\" users\n",
    "other_sn = other_data.groupby([\"SN\",\"Gender\"])\n",
    "#find percentage of \"other\"\n",
    "other_count = len(other_sn)\n",
    "percent_other = (other_count/576)\n",
    "\n",
    "gender_demographics = ({'': ['Male', 'Female', 'Other / Non-Disclosed'],\n",
    "                        'Total Count': [male_count, female_count, other_count],\n",
    "                        'Percentage of Players': [percent_male, percent_female, percent_other]})\n",
    "gender_demographics_df = pd.DataFrame(gender_demographics).set_index(\"\")\n",
    "\n",
    "\n",
    "gender_demographics_df['Percentage of Players'] = gender_demographics_df['Percentage of Players'].map(\"{:.2%}\".format)\n",
    "gender_demographics_df\n"
   ]
  },
  {
   "cell_type": "code",
   "execution_count": 96,
   "metadata": {},
   "outputs": [
    {
     "data": {
      "text/plain": [
       "3.02"
      ]
     },
     "execution_count": 96,
     "metadata": {},
     "output_type": "execute_result"
    }
   ],
   "source": [
    "##GENDER PURCHASING ANALYSIS\n",
    "\n",
    "# * The below each broken by gender\n",
    "#   * Purchase Count\n",
    "\n",
    "male_count_df = male_sn.count()\n",
    "male_purchase_count = male_count_df[\"Purchase ID\"].sum()\n",
    "\n",
    "female_count_df = female_sn.count()\n",
    "female_purchase_count = female_count_df[\"Purchase ID\"].sum()\n",
    "\n",
    "other_count_df = other_sn.count()\n",
    "other_purchase_count = other_count_df[\"Purchase ID\"].sum()\n",
    "\n",
    "#   * Average Purchase Price\n",
    "gender_df = data_df.groupby([\"Gender\"])\n",
    "\n",
    "# total_purchase_count = gender_df[[\"Gender\"]].count() #RENAME TO TOTAL PURCHASE COUNT\n",
    "\n",
    "\n",
    "avg_price_gender = gender_df[\"Price\"].mean().round(2)\n",
    "avg_price_list = list(avg_price_gender)"
   ]
  },
  {
   "cell_type": "code",
   "execution_count": 90,
   "metadata": {},
   "outputs": [
    {
     "data": {
      "text/plain": [
       "50.19"
      ]
     },
     "execution_count": 90,
     "metadata": {},
     "output_type": "execute_result"
    }
   ],
   "source": [
    "#   * Average Purchase Total per Person by Male\n",
    "each_purchase_male = male_sn[\"Price\"].sum()\n",
    "avg_total_purchase_male = each_purchase_male.mean()\n",
    "\n",
    "#Total Purchase Value Male\n",
    "total_purchase_male = each_purchase_male.sum()\n",
    "\n",
    "\n",
    "\n",
    "#   * Average Purchase Total per Person by Female\n",
    "each_purchase_female = female_sn[\"Price\"].sum()\n",
    "avg_total_purchase_female = each_purchase_female.mean()\n",
    "\n",
    "#Total Purchase Value Female\n",
    "total_purchase_female = each_purchase_female.sum()\n",
    "\n",
    "\n",
    "#   * Average Purchase Total per Person by Other\n",
    "each_purchase_other = other_sn[\"Price\"].sum()\n",
    "avg_total_purchase_other = each_purchase_other.mean()\n",
    "#Total Purchase Value Other\n",
    "total_purchase_other = each_purchase_other.sum()\n"
   ]
  },
  {
   "cell_type": "code",
   "execution_count": 108,
   "metadata": {},
   "outputs": [
    {
     "data": {
      "text/html": [
       "<div>\n",
       "<style scoped>\n",
       "    .dataframe tbody tr th:only-of-type {\n",
       "        vertical-align: middle;\n",
       "    }\n",
       "\n",
       "    .dataframe tbody tr th {\n",
       "        vertical-align: top;\n",
       "    }\n",
       "\n",
       "    .dataframe thead th {\n",
       "        text-align: right;\n",
       "    }\n",
       "</style>\n",
       "<table border=\"1\" class=\"dataframe\">\n",
       "  <thead>\n",
       "    <tr style=\"text-align: right;\">\n",
       "      <th></th>\n",
       "      <th>Purchase Count</th>\n",
       "      <th>Average Purchase Price</th>\n",
       "      <th>Total Purchase Value</th>\n",
       "      <th>Avg Total Purchase per Person</th>\n",
       "    </tr>\n",
       "    <tr>\n",
       "      <th></th>\n",
       "      <th></th>\n",
       "      <th></th>\n",
       "      <th></th>\n",
       "      <th></th>\n",
       "    </tr>\n",
       "  </thead>\n",
       "  <tbody>\n",
       "    <tr>\n",
       "      <th>Male</th>\n",
       "      <td>652</td>\n",
       "      <td>\\$3.20</td>\n",
       "      <td>\\$1,967.64</td>\n",
       "      <td>\\$4.07</td>\n",
       "    </tr>\n",
       "    <tr>\n",
       "      <th>Female</th>\n",
       "      <td>113</td>\n",
       "      <td>\\$3.02</td>\n",
       "      <td>\\$361.94</td>\n",
       "      <td>\\$4.47</td>\n",
       "    </tr>\n",
       "    <tr>\n",
       "      <th>Other</th>\n",
       "      <td>15</td>\n",
       "      <td>\\$3.35</td>\n",
       "      <td>\\$50.19</td>\n",
       "      <td>\\$4.56</td>\n",
       "    </tr>\n",
       "  </tbody>\n",
       "</table>\n",
       "</div>"
      ],
      "text/plain": [
       "        Purchase Count Average Purchase Price Total Purchase Value  \\\n",
       "                                                                     \n",
       "Male               652                 \\$3.20           \\$1,967.64   \n",
       "Female             113                 \\$3.02             \\$361.94   \n",
       "Other               15                 \\$3.35              \\$50.19   \n",
       "\n",
       "       Avg Total Purchase per Person  \n",
       "                                      \n",
       "Male                          \\$4.07  \n",
       "Female                        \\$4.47  \n",
       "Other                         \\$4.56  "
      ]
     },
     "execution_count": 108,
     "metadata": {},
     "output_type": "execute_result"
    }
   ],
   "source": [
    "gender_purchasing_analysis = ({'': [\"Male\", \"Female\", \"Other\"],\n",
    "                        'Purchase Count': [male_purchase_count, female_purchase_count, other_purchase_count],\n",
    "                        'Average Purchase Price': [avg_price_list[0], avg_price_list[1], avg_price_list[2]],\n",
    "                        'Total Purchase Value': [total_purchase_male, total_purchase_female, total_purchase_other],\n",
    "                        'Avg Total Purchase per Person': [avg_total_purchase_male, avg_total_purchase_female, avg_total_purchase_other] })\n",
    "gender_purchasing_analysis_df = pd.DataFrame(gender_purchasing_analysis).set_index(\"\")\n",
    "gender_purchasing_analysis_df['Avg Total Purchase per Person'] = gender_purchasing_analysis_df['Avg Total Purchase per Person'].map(\"\\${:,.2f}\".format)\n",
    "gender_purchasing_analysis_df['Average Purchase Price'] = gender_purchasing_analysis_df['Average Purchase Price'].map(\"\\${:,.2f}\".format)\n",
    "gender_purchasing_analysis_df['Total Purchase Value'] = gender_purchasing_analysis_df['Total Purchase Value'].map(\"\\${:,.2f}\".format)\n",
    "gender_purchasing_analysis_df\n"
   ]
  },
  {
   "cell_type": "code",
   "execution_count": null,
   "metadata": {},
   "outputs": [],
   "source": []
  },
  {
   "cell_type": "code",
   "execution_count": null,
   "metadata": {},
   "outputs": [],
   "source": []
  },
  {
   "cell_type": "code",
   "execution_count": null,
   "metadata": {},
   "outputs": [],
   "source": []
  },
  {
   "cell_type": "code",
   "execution_count": null,
   "metadata": {},
   "outputs": [],
   "source": []
  },
  {
   "cell_type": "code",
   "execution_count": null,
   "metadata": {},
   "outputs": [],
   "source": []
  },
  {
   "cell_type": "code",
   "execution_count": null,
   "metadata": {},
   "outputs": [],
   "source": []
  },
  {
   "cell_type": "code",
   "execution_count": null,
   "metadata": {},
   "outputs": [],
   "source": []
  },
  {
   "cell_type": "code",
   "execution_count": null,
   "metadata": {},
   "outputs": [],
   "source": []
  },
  {
   "cell_type": "code",
   "execution_count": null,
   "metadata": {},
   "outputs": [],
   "source": []
  },
  {
   "cell_type": "code",
   "execution_count": null,
   "metadata": {},
   "outputs": [],
   "source": []
  }
 ],
 "metadata": {
  "kernelspec": {
   "display_name": "Python 3",
   "language": "python",
   "name": "python3"
  },
  "language_info": {
   "codemirror_mode": {
    "name": "ipython",
    "version": 3
   },
   "file_extension": ".py",
   "mimetype": "text/x-python",
   "name": "python",
   "nbconvert_exporter": "python",
   "pygments_lexer": "ipython3",
   "version": "3.8.3"
  }
 },
 "nbformat": 4,
 "nbformat_minor": 4
}
