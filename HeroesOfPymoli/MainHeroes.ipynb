{
 "cells": [
  {
   "cell_type": "code",
   "execution_count": null,
   "metadata": {},
   "outputs": [],
   "source": [
    "# ### Player Count\n",
    "\n",
    "# * Total Number of Players\n",
    "\n",
    "# ### Purchasing Analysis (Total)\n",
    "\n",
    "# * Number of Unique Items - .unique\n",
    "# * Average Purchase Price -.mean\n",
    "# * Total Number of Purchases- .sum?\n",
    "# * Total Revenue - .sum?"
   ]
  }
 ],
 "metadata": {
  "kernelspec": {
   "display_name": "Python [conda env:pythondata] *",
   "language": "python",
   "name": "conda-env-pythondata-py"
  },
  "language_info": {
   "codemirror_mode": {
    "name": "ipython",
    "version": 3
   },
   "file_extension": ".py",
   "mimetype": "text/x-python",
   "name": "python",
   "nbconvert_exporter": "python",
   "pygments_lexer": "ipython3",
   "version": "3.6.10"
  }
 },
 "nbformat": 4,
 "nbformat_minor": 4
}
